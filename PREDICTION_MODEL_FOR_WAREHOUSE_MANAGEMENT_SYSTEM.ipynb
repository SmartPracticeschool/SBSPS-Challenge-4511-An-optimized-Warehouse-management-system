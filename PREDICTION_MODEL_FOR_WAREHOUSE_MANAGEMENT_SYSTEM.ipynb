{
  "nbformat": 4,
  "nbformat_minor": 0,
  "metadata": {
    "colab": {
      "name": "PREDICTION MODEL FOR WAREHOUSE MANAGEMENT SYSTEM.ipynb",
      "provenance": [],
      "collapsed_sections": [],
      "toc_visible": true,
      "include_colab_link": true
    },
    "kernelspec": {
      "name": "python3",
      "display_name": "Python 3"
    },
    "accelerator": "GPU"
  },
  "cells": [
    {
      "cell_type": "markdown",
      "metadata": {
        "id": "view-in-github",
        "colab_type": "text"
      },
      "source": [
        "<a href=\"https://colab.research.google.com/github/SmartPracticeschool/SBSPS-Challenge-4511-An-optimized-Warehouse-management-system/blob/master/PREDICTION_MODEL_FOR_WAREHOUSE_MANAGEMENT_SYSTEM.ipynb\" target=\"_parent\"><img src=\"https://colab.research.google.com/assets/colab-badge.svg\" alt=\"Open In Colab\"/></a>"
      ]
    },
    {
      "cell_type": "markdown",
      "metadata": {
        "id": "_NK8TN-slic4",
        "colab_type": "text"
      },
      "source": [
        "# DA RNN"
      ]
    },
    {
      "cell_type": "markdown",
      "metadata": {
        "id": "wOjT-NCQ8SOI",
        "colab_type": "text"
      },
      "source": [
        "Google Drive Mount"
      ]
    },
    {
      "cell_type": "code",
      "metadata": {
        "id": "U_vN_3e5w-cy",
        "colab_type": "code",
        "colab": {
          "base_uri": "https://localhost:8080/",
          "height": 55
        },
        "outputId": "39796682-e57d-4194-bd83-a906a20c44ea"
      },
      "source": [
        "from google.colab import drive\n",
        "drive.mount('/content/drive')"
      ],
      "execution_count": 2,
      "outputs": [
        {
          "output_type": "stream",
          "text": [
            "Drive already mounted at /content/drive; to attempt to forcibly remount, call drive.mount(\"/content/drive\", force_remount=True).\n"
          ],
          "name": "stdout"
        }
      ]
    },
    {
      "cell_type": "code",
      "metadata": {
        "id": "LUV-YBZixIYi",
        "colab_type": "code",
        "colab": {
          "base_uri": "https://localhost:8080/",
          "height": 50
        },
        "outputId": "fa30173a-8a84-4831-f4d3-dce507f0e1ca"
      },
      "source": [
        "cd drive/My\\ Drive"
      ],
      "execution_count": null,
      "outputs": [
        {
          "output_type": "stream",
          "text": [
            "[Errno 2] No such file or directory: 'drive/My Drive'\n",
            "/content/drive/My Drive/Colab Notebooks\n"
          ],
          "name": "stdout"
        }
      ]
    },
    {
      "cell_type": "code",
      "metadata": {
        "id": "PE43ff9_xLWy",
        "colab_type": "code",
        "colab": {
          "base_uri": "https://localhost:8080/",
          "height": 34
        },
        "outputId": "a94969e1-2c96-4600-fffd-d573cc925187"
      },
      "source": [
        "cd 'Colab Notebooks'"
      ],
      "execution_count": null,
      "outputs": [
        {
          "output_type": "stream",
          "text": [
            "/content/drive/My Drive/Colab Notebooks\n"
          ],
          "name": "stdout"
        }
      ]
    },
    {
      "cell_type": "code",
      "metadata": {
        "id": "Md29RMu5xT07",
        "colab_type": "code",
        "colab": {
          "base_uri": "https://localhost:8080/",
          "height": 34
        },
        "outputId": "056554ec-9d6d-4a70-bc7b-f7ae599273a8"
      },
      "source": [
        "ls"
      ],
      "execution_count": null,
      "outputs": [
        {
          "output_type": "stream",
          "text": [
            "cifar_10.ipynb  Untitled0.ipynb\n"
          ],
          "name": "stdout"
        }
      ]
    },
    {
      "cell_type": "markdown",
      "metadata": {
        "id": "JRWBLu5pmYQb",
        "colab_type": "text"
      },
      "source": [
        "## Hyper-parameters settings"
      ]
    },
    {
      "cell_type": "code",
      "metadata": {
        "id": "2K1hkpR8mbd1",
        "colab_type": "code",
        "colab": {}
      },
      "source": [
        "#THE PATH FOR DATSET IS DATAROOT\n",
        "dataroot = '/content/drive/My Drive/Datasets/demand fore4casting/data_more_features_final.csv'\n",
        "#dataroot = '/content/data_test1 (1).csv'\n",
        "batchsize = 128\n",
        "nhidden_encoder = 128\n",
        "nhidden_decoder = 128\n",
        "ntimestep = 7\n",
        "lr = 0.001\n",
        "epochs = 50"
      ],
      "execution_count": 4,
      "outputs": []
    },
    {
      "cell_type": "markdown",
      "metadata": {
        "id": "gFX-OX3e8cMW",
        "colab_type": "text"
      },
      "source": [
        "## Model Architecture"
      ]
    },
    {
      "cell_type": "code",
      "metadata": {
        "id": "rtEHHVWxlh0C",
        "colab_type": "code",
        "colab": {}
      },
      "source": [
        "import matplotlib.pyplot as plt\n",
        "\n",
        "from torch.autograd import Variable\n",
        "\n",
        "import torch\n",
        "import numpy as np\n",
        "from torch import nn\n",
        "from torch import optim\n",
        "import torch.nn.functional as F\n",
        "from  sklearn.linear_model import LinearRegression\n",
        "from sklearn.metrics import r2_score\n",
        "class Encoder(nn.Module):\n",
        "    \"\"\"encoder in DA_RNN.\"\"\"\n",
        "\n",
        "    def __init__(self, T,\n",
        "                 input_size,\n",
        "                 encoder_num_hidden,\n",
        "                 parallel=False):\n",
        "        \"\"\"Initialize an encoder in DA_RNN.\"\"\"\n",
        "        super(Encoder, self).__init__()\n",
        "        self.encoder_num_hidden = encoder_num_hidden\n",
        "        self.input_size = input_size\n",
        "        self.parallel = parallel\n",
        "        self.T = T\n",
        "\n",
        "        # Fig 1. Temporal Attention Mechanism: Encoder is LSTM\n",
        "        self.encoder_lstm = nn.LSTM(\n",
        "            input_size=self.input_size,\n",
        "            hidden_size=self.encoder_num_hidden,\n",
        "            num_layers = 1\n",
        "        )\n",
        "        self.cnn=nn.Conv1d(self.input_size,7,1)\n",
        "        #self.cnn=nn.Conv1d(self.input_size,7,1)\n",
        "        #self.cnn2=nn.Conv1d(104,7,1)\n",
        "        #self.cnn3=nn.Conv1d(105,7,1)\n",
        "\n",
        "\n",
        "        # Construct Input Attention Mechanism via deterministic attention model\n",
        "        # Eq. 8: W_e[h_{t-1}; s_{t-1}] + U_e * x^k\n",
        "        self.encoder_attn = nn.Linear(\n",
        "            in_features=2 * self.encoder_num_hidden + self.T - 1,\n",
        "            out_features=1\n",
        "        )\n",
        "\n",
        "    def forward(self, X):\n",
        "        \"\"\"forward.\n",
        "\n",
        "        Args:\n",
        "            X: input data\n",
        "\n",
        "        \"\"\"\n",
        "        X_tilde = Variable(X.data.new(\n",
        "            X.size(0), self.T - 1, self.input_size).zero_())\n",
        "        X_encoded = Variable(X.data.new(\n",
        "            X.size(0), self.T - 1, self.encoder_num_hidden).zero_())\n",
        "\n",
        "        # Eq. 8, parameters not in nn.Linear but to be learnt\n",
        "        # v_e = torch.nn.Parameter(data=torch.empty(\n",
        "        #     self.input_size, self.T).uniform_(0, 1), requires_grad=True)\n",
        "        # U_e = torch.nn.Parameter(data=torch.empty(\n",
        "        #     self.T, self.T).uniform_(0, 1), requires_grad=True)\n",
        "\n",
        "        # h_n, s_n: initial states with dimention hidden_size\n",
        "        h_n = self._init_states(X)\n",
        "        s_n = self._init_states(X)\n",
        "\n",
        "        for t in range(self.T - 1):\n",
        "            # batch_size * input_size * (2 * hidden_size + T - 1)\n",
        "            x = torch.cat((h_n.repeat(self.input_size, 1, 1).permute(1, 0, 2),\n",
        "                           s_n.repeat(self.input_size, 1, 1).permute(1, 0, 2),\n",
        "                           X.permute(0, 2, 1)), dim=2)\n",
        "\n",
        "            x = self.encoder_attn(\n",
        "                x.view(-1, self.encoder_num_hidden * 2 + self.T - 1))\n",
        "\n",
        "            # get weights by softmax\n",
        "            alpha = F.softmax(x.view(-1, self.input_size))\n",
        "\n",
        "            # get new input for LSTM\n",
        "            x_tilde = torch.mul(alpha, X[:, t, :])\n",
        "            #print( x_tilde.shape)\n",
        "            # Fix the warning about non-contiguous memory\n",
        "            # https://discuss.pytorch.org/t/dataparallel-issue-with-flatten-parameter/8282\n",
        "            self.encoder_lstm.flatten_parameters()\n",
        "\n",
        "            # encoder LSTM\n",
        "            '''\n",
        "            if(x_tilde.shape[0]==105):\n",
        "              x_tilde1=x_tilde\n",
        "              x_tilde1.unsqueeze_(-1)\n",
        "              x_tilde1=x_tilde1.expand(105,7,1)\n",
        "              x_tilde1=self.cnn( x_tilde1)\n",
        "              x_tilde1.unsqueeze_(-1)\n",
        "              x_tilde=x_tilde1.view(105, 7) \n",
        "            \n",
        "            elif(x_tilde.shape[0]==104):\n",
        "              x_tilde1=x_tilde\n",
        "              x_tilde1.unsqueeze_(-1)\n",
        "              x_tilde1=x_tilde1.expand(104,7,1)\n",
        "              x_tilde1=self.cnn( x_tilde1)\n",
        "              x_tilde1.unsqueeze_(-1)\n",
        "              x_tilde=x_tilde1.view(104, 7) \n",
        "            '''\n",
        "            #else:\n",
        "            #self.cnn=nn.Conv1d(x_tilde.shape[1],7,1)\n",
        "            x_tilde1=x_tilde\n",
        "            x_tilde1.unsqueeze_(-1)\n",
        "            x_tilde1=x_tilde1.expand(x_tilde.shape[0],7,1)\n",
        "            x_tilde1=self.cnn( x_tilde1)\n",
        "            x_tilde1.unsqueeze_(-1)\n",
        "            x_tilde=x_tilde1.view(x_tilde.shape[0], 7) \n",
        "           \n",
        "            _, final_state = self.encoder_lstm(x_tilde.unsqueeze(0), (h_n, s_n))\n",
        "            h_n = final_state[0]\n",
        "            s_n = final_state[1]\n",
        "\n",
        "            X_tilde[:, t, :] = x_tilde\n",
        "            X_encoded[:, t, :] = h_n\n",
        "\n",
        "        return X_tilde, X_encoded\n",
        "\n",
        "    def _init_states(self, X):\n",
        "        \"\"\"Initialize all 0 hidden states and cell states for encoder.\n",
        "\n",
        "        Args:\n",
        "            X\n",
        "\n",
        "        Returns:\n",
        "            initial_hidden_states\n",
        "        \"\"\"\n",
        "        # https://pytorch.org/docs/master/nn.html?#lstm\n",
        "        return Variable(X.data.new(1, X.size(0), self.encoder_num_hidden).zero_())\n",
        "\n",
        "\n",
        "class Decoder(nn.Module):\n",
        "    \"\"\"decoder in DA_RNN.\"\"\"\n",
        "\n",
        "    def __init__(self, T, decoder_num_hidden, encoder_num_hidden):\n",
        "        \"\"\"Initialize a decoder in DA_RNN.\"\"\"\n",
        "        super(Decoder, self).__init__()\n",
        "        self.decoder_num_hidden = decoder_num_hidden\n",
        "        self.encoder_num_hidden = encoder_num_hidden\n",
        "        self.T = T\n",
        "\n",
        "        self.attn_layer = nn.Sequential(\n",
        "            nn.Linear(2 * decoder_num_hidden + encoder_num_hidden, encoder_num_hidden),\n",
        "            nn.Tanh(),\n",
        "            nn.Linear(encoder_num_hidden, 1)\n",
        "        )\n",
        "        self.lstm_layer = nn.LSTM(\n",
        "            input_size=1,\n",
        "            hidden_size=decoder_num_hidden\n",
        "        )\n",
        "        self.fc = nn.Linear(encoder_num_hidden + 1, 1)\n",
        "        self.fc_final = nn.Linear(decoder_num_hidden + encoder_num_hidden, 1)\n",
        "        \n",
        "        self.fc.weight.data.normal_()\n",
        "\n",
        "    def forward(self, X_encoded, y_prev):\n",
        "        \"\"\"forward.\"\"\"\n",
        "        d_n = self._init_states(X_encoded)\n",
        "        c_n = self._init_states(X_encoded)\n",
        "\n",
        "        for t in range(self.T - 1):\n",
        "\n",
        "            x = torch.cat((d_n.repeat(self.T - 1, 1, 1).permute(1, 0, 2),\n",
        "                           c_n.repeat(self.T - 1, 1, 1).permute(1, 0, 2),\n",
        "                           X_encoded), dim=2)\n",
        "\n",
        "            beta = F.softmax(self.attn_layer(\n",
        "                x.view(-1, 2 * self.decoder_num_hidden + self.encoder_num_hidden)).view(-1, self.T - 1))\n",
        "\n",
        "            # Eqn. 14: compute context vector\n",
        "            # batch_size * encoder_hidden_size\n",
        "            context = torch.bmm(beta.unsqueeze(1), X_encoded)[:, 0, :]\n",
        "            if t < self.T - 1:\n",
        "                # Eqn. 15\n",
        "                # batch_size * 1\n",
        "                y_tilde = self.fc(\n",
        "                    torch.cat((context, y_prev[:, t].unsqueeze(1)), dim=1))\n",
        "\n",
        "                # Eqn. 16: LSTM\n",
        "                self.lstm_layer.flatten_parameters()\n",
        "                _, final_states = self.lstm_layer(\n",
        "                    y_tilde.unsqueeze(0), (d_n, c_n))\n",
        "\n",
        "                d_n = final_states[0]  # 1 * batch_size * decoder_num_hidden\n",
        "                c_n = final_states[1]  # 1 * batch_size * decoder_num_hidden\n",
        "\n",
        "        # Eqn. 22: final output\n",
        "        y_pred = self.fc_final(torch.cat((d_n[0], context), dim=1))\n",
        "        \n",
        "        return y_pred\n",
        "\n",
        "    def _init_states(self, X):\n",
        "        \"\"\"Initialize all 0 hidden states and cell states for encoder.\n",
        "\n",
        "        Args:\n",
        "            X\n",
        "        Returns:\n",
        "            initial_hidden_states\n",
        "\n",
        "        \"\"\"\n",
        "        # hidden state and cell state [num_layers*num_directions, batch_size, hidden_size]\n",
        "        # https://pytorch.org/docs/master/nn.html?#lstm\n",
        "        return Variable(X.data.new(1, X.size(0), self.decoder_num_hidden).zero_())\n",
        "\n",
        "\n",
        "class DA_rnn(nn.Module):\n",
        "    \"\"\"da_rnn.\"\"\"\n",
        "\n",
        "    def __init__(self, X, y, T,\n",
        "                 encoder_num_hidden,\n",
        "                 decoder_num_hidden,\n",
        "                 batch_size,\n",
        "                 learning_rate,\n",
        "                 epochs,\n",
        "                 parallel=False):\n",
        "        \"\"\"da_rnn initialization.\"\"\"\n",
        "        super(DA_rnn, self).__init__()\n",
        "        self.linear_reg=LinearRegression()\n",
        "        self.encoder_num_hidden = encoder_num_hidden\n",
        "        self.linear=nn.Linear(128,128)\n",
        "        self.decoder_num_hidden = decoder_num_hidden\n",
        "        self.learning_rate = learning_rate\n",
        "        self.batch_size = batch_size\n",
        "        self.parallel = parallel\n",
        "        self.shuffle = False\n",
        "        self.epochs = epochs\n",
        "        self.T = T\n",
        "        self.X = X\n",
        "        self.y = y\n",
        "\n",
        "        #self.device = torch.device('cuda:0' if torch.cuda.is_available() else 'cpu')\n",
        "        self.device = torch.device('cpu')\n",
        "        print(\"==> Use accelerator: \", self.device)\n",
        "\n",
        "        self.Encoder = Encoder(input_size=X.shape[1],\n",
        "                               encoder_num_hidden=encoder_num_hidden,\n",
        "                               T=T).to(self.device)\n",
        "        self.Decoder = Decoder(encoder_num_hidden=encoder_num_hidden,\n",
        "                               decoder_num_hidden=decoder_num_hidden,\n",
        "                               T=T).to(self.device)\n",
        "\n",
        "        # Loss function\n",
        "        self.criterion = nn.MSELoss()\n",
        "\n",
        "        if self.parallel:\n",
        "            self.encoder = nn.DataParallel(self.encoder)\n",
        "            self.decoder = nn.DataParallel(self.decoder)\n",
        "\n",
        "        self.encoder_optimizer = optim.Adam(params=filter(lambda p: p.requires_grad,\n",
        "                                                          self.Encoder.parameters()),\n",
        "                                            lr=self.learning_rate)\n",
        "        self.decoder_optimizer = optim.Adam(params=filter(lambda p: p.requires_grad,\n",
        "                                                          self.Decoder.parameters()),\n",
        "                                            lr=self.learning_rate)\n",
        "\n",
        "\n",
        "\n",
        "        self.Linear_optimizer = optim.Adam(params=filter(lambda p: p.requires_grad,\n",
        "                                                          self.linear.parameters()),\n",
        "                                           lr=self.learning_rate)\n",
        "\n",
        "\n",
        "\n",
        "\n",
        "        # Training set\n",
        "        self.train_timesteps = int(self.X.shape[0] * 0.7)\n",
        "        self.y = self.y - np.mean(self.y[:self.train_timesteps])\n",
        "        self.input_size = self.X.shape[1]\n",
        "\n",
        "    def train(self):\n",
        "        \"\"\"training process.\"\"\"\n",
        "        iter_per_epoch = int(np.ceil(self.train_timesteps * 1. / self.batch_size))\n",
        "        self.iter_losses = np.zeros(self.epochs * iter_per_epoch)\n",
        "        self.epoch_losses = np.zeros(self.epochs)\n",
        "\n",
        "        n_iter = 0\n",
        "\n",
        "        for epoch in range(self.epochs):\n",
        "            if self.shuffle:\n",
        "                ref_idx = np.random.permutation(self.train_timesteps - self.T)\n",
        "            else:\n",
        "                ref_idx = np.array(range(self.train_timesteps - self.T))\n",
        "\n",
        "            idx = 0\n",
        "\n",
        "            while (idx < self.train_timesteps):\n",
        "                # get the indices of X_train\n",
        "                indices = ref_idx[idx:(idx + self.batch_size)]\n",
        "                # x = np.zeros((self.T - 1, len(indices), self.input_size))\n",
        "                x = np.zeros((len(indices), self.T - 1, self.input_size))\n",
        "                y_prev = np.zeros((len(indices), self.T - 1))\n",
        "                y_gt = self.y[indices + self.T]\n",
        "\n",
        "                # format x into 3D tensor\n",
        "                for bs in range(len(indices)):\n",
        "                    x[bs, :, :] = self.X[indices[bs]:(indices[bs] + self.T - 1), :]\n",
        "                    y_prev[bs, :] = self.y[indices[bs]: (indices[bs] + self.T - 1)]\n",
        "                \n",
        "                loss = self.train_forward(x, y_prev, y_gt)\n",
        "                self.iter_losses[int(epoch * iter_per_epoch + idx / self.batch_size)] = loss\n",
        "\n",
        "                idx += self.batch_size\n",
        "                n_iter += 1\n",
        "\n",
        "                if n_iter % 10000 == 0 and n_iter != 0:\n",
        "                    for param_group in self.encoder_optimizer.param_groups:\n",
        "                        param_group['lr'] = param_group['lr'] * 0.9\n",
        "                    for param_group in self.decoder_optimizer.param_groups:\n",
        "                        param_group['lr'] = param_group['lr'] * 0.9\n",
        "\n",
        "                self.epoch_losses[epoch] = np.mean(self.iter_losses[range(\n",
        "                    epoch * iter_per_epoch, (epoch + 1) * iter_per_epoch)])\n",
        "\n",
        "\n",
        "\n",
        "\n",
        "\n",
        "            if epoch % 10 == 0:\n",
        "                print(\"Epochs: \", epoch, \" Iterations: \", n_iter,\n",
        "                      \" Loss: \", self.epoch_losses[epoch])\n",
        "\n",
        "            if epoch % 10 == 0:\n",
        "                y_train_pred = self.test(on_train=True)\n",
        "                y_test_pred = self.test(on_train=False)\n",
        "                y_pred = np.concatenate((y_train_pred, y_test_pred))\n",
        "                \n",
        "                plt.ioff()\n",
        "                plt.figure()\n",
        "                plt.plot(range(1, 1 + len(self.y)), self.y, label=\"True\")\n",
        "                plt.plot(range(self.T, len(y_train_pred) + self.T),\n",
        "                         y_train_pred, label='Predicted - Train')\n",
        "                plt.plot(range(self.T + len(y_train_pred), len(self.y) + 1),\n",
        "                         y_test_pred, label='Predicted - Test')\n",
        "                plt.legend(loc='upper left')\n",
        "                plt.show()\n",
        "\n",
        "            # # Save files in last iterations\n",
        "            # if epoch == self.epochs - 1:\n",
        "            #     np.savetxt('../loss.txt', np.array(self.epoch_losses), delimiter=',')\n",
        "            #     np.savetxt('../y_pred.txt',\n",
        "            #                np.array(self.y_pred), delimiter=',')\n",
        "            #     np.savetxt('../y_true.txt',\n",
        "            #                np.array(self.y_true), delimiter=',')\n",
        "\n",
        "    def train_forward(self, X, y_prev, y_gt):\n",
        "        \"\"\"\n",
        "        Forward pass.\n",
        "\n",
        "        Args:\n",
        "            X:\n",
        "            y_prev:\n",
        "            y_gt: Ground truth label\n",
        "\n",
        "        \"\"\"\n",
        "        # zero gradients\n",
        "        self.encoder_optimizer.zero_grad()\n",
        "        self.decoder_optimizer.zero_grad()\n",
        "\n",
        "\n",
        "\n",
        "        self.Linear_optimizer.zero_grad()\n",
        "\n",
        "\n",
        "        input_weighted, input_encoded = self.Encoder(\n",
        "            Variable(torch.from_numpy(X).type(torch.FloatTensor).to(self.device)))\n",
        "        y_pred = self.Decoder(input_encoded, Variable(\n",
        "            torch.from_numpy(y_prev).type(torch.FloatTensor).to(self.device)))\n",
        "         \n",
        "        if (y_pred.shape[0]==128):\n",
        "          y_pred=self.linear(y_pred.view(-1,y_pred.shape[0]*1))\n",
        "          y_pred=y_pred.T\n",
        "        #print(y_pred.shape)\n",
        "      \n",
        "\n",
        "        y_true = Variable(torch.from_numpy(\n",
        "            y_gt).type(torch.FloatTensor).to(self.device))\n",
        "        \n",
        "        y_true = y_true.view(-1, 1)\n",
        "        y_pred1=y_pred\n",
        "        #y_pred =y_pred.detach().numpy()\n",
        "        #self.linear_reg.fit(y_true,y_pred)\n",
        "        #y_pred=self.linear_reg.predict(y_true)\n",
        "\n",
        "        \n",
        "        #y_pred=torch.abs(y_pred)\n",
        "        loss = self.criterion(y_pred1, y_true)\n",
        "        loss.backward()\n",
        "\n",
        "        self.encoder_optimizer.step()\n",
        "        self.decoder_optimizer.step()\n",
        "\n",
        "\n",
        "        self.Linear_optimizer.step()\n",
        "\n",
        "\n",
        "        return loss.item()\n",
        "\n",
        "\n",
        "    def test(self, on_train=False):\n",
        "        \"\"\"test.\"\"\"\n",
        "\n",
        "        if on_train:\n",
        "            y_pred = np.zeros(self.train_timesteps - self.T + 1)\n",
        "        else:\n",
        "            y_pred = np.zeros(self.X.shape[0] - self.train_timesteps)\n",
        "\n",
        "        i = 0\n",
        "        while i < len(y_pred):\n",
        "            batch_idx = np.array(range(len(y_pred)))[i: (i + self.batch_size)]\n",
        "            X = np.zeros((len(batch_idx), self.T - 1, self.X.shape[1]))\n",
        "            y_history = np.zeros((len(batch_idx), self.T - 1))\n",
        "\n",
        "            for j in range(len(batch_idx)):\n",
        "                if on_train:\n",
        "                    X[j, :, :] = self.X[range(\n",
        "                        batch_idx[j], batch_idx[j] + self.T - 1), :]\n",
        "                    y_history[j, :] = self.y[range(\n",
        "                        batch_idx[j], batch_idx[j] + self.T - 1)]\n",
        "                else:\n",
        "                    X[j, :, :] = self.X[range(\n",
        "                        batch_idx[j] + self.train_timesteps - self.T, batch_idx[j] + self.train_timesteps - 1), :]\n",
        "                    y_history[j, :] = self.y[range(\n",
        "                        batch_idx[j] + self.train_timesteps - self.T, batch_idx[j] + self.train_timesteps - 1)]\n",
        "\n",
        "            y_history = Variable(torch.from_numpy(\n",
        "                y_history).type(torch.FloatTensor).to(self.device))\n",
        "            _, input_encoded = self.Encoder(\n",
        "                Variable(torch.from_numpy(X).type(torch.FloatTensor).to(self.device)))\n",
        "            y_pred[i:(i + self.batch_size)] = self.Decoder(input_encoded,\n",
        "                                                           y_history).cpu().data.numpy()[:, 0]\n",
        "            \n",
        "            y_pred_copy=y_pred\n",
        "                  \n",
        "            if (y_pred[i:(i + self.batch_size)].shape[0]==128):\n",
        "                y_pred1 =y_pred[i:(i + self.batch_size)]  \n",
        "                y_pred1=torch.from_numpy(y_pred1)\n",
        "                y_pred1=y_pred1.float()\n",
        "                \n",
        "                y_pred1=self.linear(y_pred1.view(-1,y_pred[i:(i + self.batch_size)].shape[0]*1))\n",
        "\n",
        "                #y_pred[:,i:(i + self.batch_size)]=self.linear(y_pred1.view(-1,y_pred1.shape[0]*1))\n",
        "                y_pred1=y_pred1.T  \n",
        "                y_pred1=y_pred1.detach().numpy()\n",
        "                y_pred[i:(i + self.batch_size)]= y_pred1.ravel()\n",
        "\n",
        "            '''\n",
        "               \n",
        "        if (y_pred.shape[0]==128):\n",
        "          y_pred=self.linear(y_pred.view(-1,y_pred.shape[0]*1))\n",
        "          y_pred=y_pred.T\n",
        "\n",
        "            y_pred= y_pred.reshape(-1, 1)\n",
        "\n",
        "            #y_pred[i:(i + self.batch_size)]=self.linear_reg.predict(y_pred[i:(i + self.batch_size)])\n",
        "            \n",
        "\n",
        "            y_pred=y_pred.reshape(y_pred_copy.shape)\n",
        "            '''\n",
        "\n",
        "            i += self.batch_size\n",
        "\n",
        "        return y_pred\n",
        "    def predict(self,X1,days):\n",
        "        X1=X1\n",
        "        y_pred = np.zeros(X1.shape[0])\n",
        "        i = 0\n",
        "        while i < len(y_pred):\n",
        "            batch_idx = np.array(range(len(y_pred)))[i: (i + self.batch_size)]\n",
        "            X = np.zeros((len(batch_idx), self.T - 1, X1.shape[1]))\n",
        "            y_history = np.zeros((len(batch_idx), self.T - 1))\n",
        "\n",
        "            for j in range(len(batch_idx)):\n",
        "        \n",
        "            \n",
        "                    X[j, :, :] = X1[range(\n",
        "                        batch_idx[j]  - self.T, batch_idx[j]  - 1), :]\n",
        "                    y_history[j, :] = self.y[range(\n",
        "                        batch_idx[j]  - self.T, batch_idx[j]  - 1)]\n",
        "\n",
        "            y_history = Variable(torch.from_numpy(\n",
        "                y_history).type(torch.FloatTensor).to(self.device))\n",
        "            _, input_encoded = self.Encoder(\n",
        "                Variable(torch.from_numpy(X).type(torch.FloatTensor).to(self.device)))\n",
        "            y_pred[i:(i + self.batch_size)] = self.Decoder(input_encoded,\n",
        "                                                           y_history).cpu().data.numpy()[:, 0]\n",
        "            \n",
        "            y_pred_copy=y_pred\n",
        "                  \n",
        "            if (y_pred[i:(i + self.batch_size)].shape[0]==128):\n",
        "                y_pred1 =y_pred[i:(i + self.batch_size)]  \n",
        "                y_pred1=torch.from_numpy(y_pred1)\n",
        "                y_pred1=y_pred1.float()\n",
        "                \n",
        "                y_pred1=self.linear(y_pred1.view(-1,y_pred[i:(i + self.batch_size)].shape[0]*1))\n",
        "                y_pred1=y_pred1.T  \n",
        "                y_pred1=y_pred1.detach().numpy()\n",
        "                y_pred[i:(i + self.batch_size)]= y_pred1.ravel()\n",
        "            i += self.batch_size\n",
        "        plt.ioff()\n",
        "        plt.figure()\n",
        "        plt.plot(range(1, 1 + len(y_pred[:days])),y_pred[:days], label=\"Predicted\")\n",
        "        plt.legend(loc='upper left')\n",
        "        plt.show() \n",
        "        return y_pred"
      ],
      "execution_count": 5,
      "outputs": []
    },
    {
      "cell_type": "markdown",
      "metadata": {
        "id": "Q7v_B_SV8iHu",
        "colab_type": "text"
      },
      "source": [
        "## Util Function"
      ]
    },
    {
      "cell_type": "code",
      "metadata": {
        "id": "NoFUkg_Elh-P",
        "colab_type": "code",
        "colab": {}
      },
      "source": [
        "import numpy as np\n",
        "import pandas as pd\n",
        "from sklearn import preprocessing\n",
        "from sklearn.preprocessing import MinMaxScaler\n",
        "\n",
        "def read_data(input_path, debug=True):\n",
        "    \"\"\"Read nasdaq stocks data.\n",
        "\n",
        "    Args:\n",
        "        input_path (str): directory to nasdaq dataset.\n",
        "\n",
        "    Returns:\n",
        "        X (np.ndarray): features.\n",
        "        y (np.ndarray): ground truth.\n",
        "\n",
        "    \"\"\"\n",
        "    df = pd.read_csv(input_path, nrows=365 if debug else None)\n",
        "    #df = pd.read_csv(input_path)\n",
        "    df=df.drop(['id','date','Unnamed: 0.1'], axis = 1) \n",
        "    \n",
        "    # X = df.iloc[:, 0:-1].values\n",
        "    X = df.loc[:, [x for x in df.columns.tolist() if x != 'unit_sales']].to_numpy()\n",
        "\n",
        "    # y = df.iloc[:, -1].values\n",
        "    y = np.array(df.unit_sales)\n",
        "    y=y.reshape(-1, 1) \n",
        "    #use the below function if you want to normalize\n",
        "    '''\n",
        "     \n",
        "    scaler = MinMaxScaler(feature_range=(0, 1))\n",
        "    scaler = scaler.fit(y)\n",
        "    '''\n",
        "   # y= scaler.transform(y)\n",
        "    #y = preprocessing.scale(y)\n",
        "    print(y)\n",
        "    y=y.reshape(-1)\n",
        "    return X, y"
      ],
      "execution_count": 6,
      "outputs": []
    },
    {
      "cell_type": "markdown",
      "metadata": {
        "id": "Ca-OxO-Z8lEt",
        "colab_type": "text"
      },
      "source": [
        "## Main"
      ]
    },
    {
      "cell_type": "code",
      "metadata": {
        "id": "Jc-8Qvsyv6tt",
        "colab_type": "code",
        "colab": {
          "base_uri": "https://localhost:8080/",
          "height": 1000
        },
        "outputId": "4e06aa3b-e447-4625-ae13-4913601e620f"
      },
      "source": [
        "# Read dataset\n",
        "import warnings\n",
        "warnings.filterwarnings(\"ignore\")\n",
        "print(\"==> Load dataset ...\")\n",
        "X, y = read_data(dataroot, debug=False)\n",
        "\n",
        "# Initialize model\n",
        "print(\"==> Initialize DA-RNN model ...\")\n",
        "model = DA_rnn(\n",
        "    X,\n",
        "    y,\n",
        "    ntimestep,\n",
        "    nhidden_encoder,\n",
        "    nhidden_decoder,\n",
        "    batchsize,\n",
        "    lr,\n",
        "    epochs\n",
        ")\n",
        "\n",
        "# Train\n",
        "print(\"==> Start training ...\")\n",
        "#model.to(device)\n",
        "model.train()\n",
        "\n",
        "# Prediction\n",
        "y_pred = model.test()\n",
        "\n",
        "fig1 = plt.figure()\n",
        "plt.semilogy(range(len(model.iter_losses)), model.iter_losses)\n",
        "plt.savefig(\"1.png\")\n",
        "plt.close(fig1)\n",
        "\n",
        "fig2 = plt.figure()\n",
        "plt.semilogy(range(len(model.epoch_losses)), model.epoch_losses)\n",
        "plt.savefig(\"2.png\")\n",
        "plt.close(fig2)\n",
        "\n",
        "fig3 = plt.figure()\n",
        "plt.plot(model.y[model.train_timesteps:], label=\"True\")\n",
        "plt.plot(y_pred, label='Predicted')\n",
        "\n",
        "plt.legend(loc='upper left')\n",
        "plt.savefig(\"3.png\")\n",
        "plt.close(fig3)\n",
        "print('Finished Training')"
      ],
      "execution_count": 5,
      "outputs": [
        {
          "output_type": "stream",
          "text": [
            "==> Load dataset ...\n",
            "[[ 6.]\n",
            " [12.]\n",
            " [ 2.]\n",
            " ...\n",
            " [ 5.]\n",
            " [ 4.]\n",
            " [ 2.]]\n",
            "==> Initialize DA-RNN model ...\n",
            "==> Use accelerator:  cpu\n",
            "==> Start training ...\n",
            "Epochs:  0  Iterations:  945  Loss:  19.558044861233423\n"
          ],
          "name": "stdout"
        },
        {
          "output_type": "display_data",
          "data": {
            "image/png": "[encoded data removed]",
            "text/plain": [
              "<Figure size 432x288 with 1 Axes>"
            ]
          },
          "metadata": {
            "tags": [],
            "needs_background": "light"
          }
        },
        {
          "output_type": "stream",
          "text": [
            "Epochs:  10  Iterations:  10395  Loss:  0.5302771529439029\n"
          ],
          "name": "stdout"
        },
        {
          "output_type": "display_data",
          "data": {
            "image/png": "[encoded data removed]",
            "text/plain": [
              "<Figure size 432x288 with 1 Axes>"
            ]
          },
          "metadata": {
            "tags": [],
            "needs_background": "light"
          }
        },
        {
          "output_type": "stream",
          "text": [
            "Epochs:  20  Iterations:  19845  Loss:  0.42299621279681565\n"
          ],
          "name": "stdout"
        },
        {
          "output_type": "display_data",
          "data": {
            "image/png": "[encoded data removed]",
            "text/plain": [
              "<Figure size 432x288 with 1 Axes>"
            ]
          },
          "metadata": {
            "tags": [],
            "needs_background": "light"
          }
        },
        {
          "output_type": "stream",
          "text": [
            "Epochs:  30  Iterations:  29295  Loss:  0.3840884895354667\n"
          ],
          "name": "stdout"
        },
        {
          "output_type": "display_data",
          "data": {
            "image/png": "[encoded data removed]",
            "text/plain": [
              "<Figure size 432x288 with 1 Axes>"
            ]
          },
          "metadata": {
            "tags": [],
            "needs_background": "light"
          }
        },
        {
          "output_type": "stream",
          "text": [
            "Epochs:  40  Iterations:  38745  Loss:  0.368975822528499\n"
          ],
          "name": "stdout"
        },
        {
          "output_type": "display_data",
          "data": {
            "image/png": "[encoded data removed]",
            "text/plain": [
              "<Figure size 432x288 with 1 Axes>"
            ]
          },
          "metadata": {
            "tags": [],
            "needs_background": "light"
          }
        },
        {
          "output_type": "stream",
          "text": [
            "Finished Training\n"
          ],
          "name": "stdout"
        }
      ]
    },
    {
      "cell_type": "markdown",
      "metadata": {
        "id": "BF1XIrnIXrQi",
        "colab_type": "text"
      },
      "source": [
        "SAVING THE TRAINEDD MODEL "
      ]
    },
    {
      "cell_type": "code",
      "metadata": {
        "id": "DcnCSlUSy3ov",
        "colab_type": "code",
        "colab": {}
      },
      "source": [
        "torch.save(model, '/content/drive/My Drive/Datasets/demand fore4casting/finished.pth')\n"
      ],
      "execution_count": null,
      "outputs": []
    },
    {
      "cell_type": "markdown",
      "metadata": {
        "id": "kQnGHCaDrAHn",
        "colab_type": "text"
      },
      "source": [
        "# LOADING THE  TRAINED MODEL"
      ]
    },
    {
      "cell_type": "code",
      "metadata": {
        "id": "NkX0ArQUtV9S",
        "colab_type": "code",
        "colab": {}
      },
      "source": [
        "model = torch.load('/content/drive/My Drive/Datasets/demand fore4casting/finished.pth')"
      ],
      "execution_count": 7,
      "outputs": []
    },
    {
      "cell_type": "markdown",
      "metadata": {
        "id": "_h6sqoFSaJc3",
        "colab_type": "text"
      },
      "source": [
        "FUNTION TO TAKE CUSTOM INPUT AND FEED IT TO MODEL FOR PREDICTION\n"
      ]
    },
    {
      "cell_type": "code",
      "metadata": {
        "colab_type": "code",
        "id": "KrPhAqCqtXUP",
        "colab": {}
      },
      "source": [
        "import random\n",
        "def backend():\n",
        "  \n",
        "  days=input(\"input number of days\" )\n",
        "  store_nbr=input(\"enter the store nmbr ranging from 1 to 54: \")\n",
        "  item_nbr=input(\"enter the item nmbr any one of the following (108696),(164088),(804098),(1695936),(2032088)\")\n",
        "  days = int(days)\n",
        "  store_nbr = int(store_nbr)\n",
        "  item_nbr = int(item_nbr)\n",
        "\n",
        "  \n",
        "  \n",
        "  dcoilwtico=[]\n",
        "  itemnbr=[]\n",
        "  storenbr=[]\n",
        "  onpromotion=[]\n",
        "  transactions=[]\n",
        "  type1=[]\n",
        "  y=days%128\n",
        "  days1=days+y\n",
        "  for x in range(days1):\n",
        "    itemnbr.append(item_nbr)\n",
        "    storenbr.append(store_nbr)\n",
        "    dcoilwtico.append(random.randint(26,110))\n",
        "    onpromotion.append( random.randint(0,1))\n",
        "    transactions.append(random.randint(6,8359))\n",
        "    type1.append(random.randint(0,1))\n",
        "  unnamed=list(range(0,days1))\n",
        "  dict1={'unnamed':unnamed,'store_nbr':storenbr,'item_nbr':itemnbr,'onpromotion':onpromotion,'dcoilwtico':dcoilwtico,'transactions':transactions,\n",
        "        'type':type1}\n",
        "  data=pd.DataFrame(dict1)\n",
        "  return data ,days \n",
        "import numpy as np\n",
        "import pandas as pd\n",
        "from sklearn import preprocessing\n",
        "from sklearn.preprocessing import MinMaxScaler\n",
        "\n",
        "def read_data1(input, ):\n",
        "    \"\"\"Read nasdaq stocks data.\n",
        "\n",
        "    Args:\n",
        "        input_path (str): directory to nasdaq dataset.\n",
        "\n",
        "    Returns:\n",
        "        X (np.ndarray): features.\n",
        "        y (np.ndarray): ground truth.\n",
        "\n",
        "    \"\"\"\n",
        "    df = input\n",
        "    #df = pd.read_csv(input_path)\n",
        "   \n",
        "    \n",
        "    # X = df.iloc[:, 0:-1].values\n",
        "    X = df.loc[:, [x for x in df.columns.tolist() if x != 'unit_sales']].to_numpy()\n",
        "\n",
        "    # y = df.iloc[:, -1].values\n",
        "    '''\n",
        "    y = np.array(df.unit_sales)\n",
        "    y=y.reshape(-1, 1) \n",
        "\n",
        "    scaler = MinMaxScaler(feature_range=(0, 1))\n",
        "    scaler = scaler.fit(y)\n",
        "\n",
        "   # y= scaler.transform(y)\n",
        "    #y = preprocessing.scale(y)\n",
        "    print(y)\n",
        "    y=y.reshape(-1)\n",
        "    '''\n",
        "    return X"
      ],
      "execution_count": 9,
      "outputs": []
    },
    {
      "cell_type": "markdown",
      "metadata": {
        "id": "tL6C_JlDaWb3",
        "colab_type": "text"
      },
      "source": [
        "# SAMPLE OUTPUT FROM A CUSTOM INPUT"
      ]
    },
    {
      "cell_type": "code",
      "metadata": {
        "id": "7l3Jjd0eej3M",
        "colab_type": "code",
        "colab": {
          "base_uri": "https://localhost:8080/",
          "height": 375
        },
        "outputId": "40b5a57c-4bd5-49b8-d943-782df6b06740"
      },
      "source": [
        "\n",
        "x,d= backend()\n",
        "\n",
        "pred=model.predict(read_data1(x),d)\n",
        "pred = np.absolute(pred)\n",
        "#print(pred[:d][d-1])\n"
      ],
      "execution_count": 10,
      "outputs": [
        {
          "output_type": "stream",
          "text": [
            "input number of days128\n",
            "enter the store nmbr ranging from 1 to 54: 45\n",
            "enter the item nmbr any one of the following (108696),(164088),(804098),(1695936),(2032088)2032088\n"
          ],
          "name": "stdout"
        },
        {
          "output_type": "stream",
          "text": [
            "/usr/local/lib/python3.6/dist-packages/ipykernel_launcher.py:77: UserWarning: Implicit dimension choice for softmax has been deprecated. Change the call to include dim=X as an argument.\n",
            "/usr/local/lib/python3.6/dist-packages/ipykernel_launcher.py:171: UserWarning: Implicit dimension choice for softmax has been deprecated. Change the call to include dim=X as an argument.\n"
          ],
          "name": "stderr"
        },
        {
          "output_type": "display_data",
          "data": {
            "image/png": "[encoded data removed]",
            "text/plain": [
              "<Figure size 432x288 with 1 Axes>"
            ]
          },
          "metadata": {
            "tags": [],
            "needs_background": "light"
          }
        }
      ]
    }
  ]
}